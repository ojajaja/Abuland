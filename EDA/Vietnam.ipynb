{
 "cells": [
  {
   "cell_type": "markdown",
   "metadata": {},
   "source": [
    "# Vietnam Data Cleaning"
   ]
  },
  {
   "cell_type": "code",
   "execution_count": 1,
   "metadata": {},
   "outputs": [],
   "source": [
    "# Import Statements\n",
    "import pandas as pd\n",
    "import numpy as np"
   ]
  },
  {
   "cell_type": "code",
   "execution_count": 2,
   "metadata": {},
   "outputs": [
    {
     "data": {
      "text/html": [
       "<div>\n",
       "<style scoped>\n",
       "    .dataframe tbody tr th:only-of-type {\n",
       "        vertical-align: middle;\n",
       "    }\n",
       "\n",
       "    .dataframe tbody tr th {\n",
       "        vertical-align: top;\n",
       "    }\n",
       "\n",
       "    .dataframe thead th {\n",
       "        text-align: right;\n",
       "    }\n",
       "</style>\n",
       "<table border=\"1\" class=\"dataframe\">\n",
       "  <thead>\n",
       "    <tr style=\"text-align: right;\">\n",
       "      <th></th>\n",
       "      <th>province</th>\n",
       "      <th>max</th>\n",
       "      <th>min</th>\n",
       "      <th>wind</th>\n",
       "      <th>wind_d</th>\n",
       "      <th>rain</th>\n",
       "      <th>humidi</th>\n",
       "      <th>cloud</th>\n",
       "      <th>pressure</th>\n",
       "      <th>date</th>\n",
       "    </tr>\n",
       "  </thead>\n",
       "  <tbody>\n",
       "    <tr>\n",
       "      <th>0</th>\n",
       "      <td>Bac Lieu</td>\n",
       "      <td>27</td>\n",
       "      <td>22</td>\n",
       "      <td>17</td>\n",
       "      <td>NNE</td>\n",
       "      <td>6.9</td>\n",
       "      <td>90</td>\n",
       "      <td>71</td>\n",
       "      <td>1010</td>\n",
       "      <td>2009-01-01</td>\n",
       "    </tr>\n",
       "    <tr>\n",
       "      <th>1</th>\n",
       "      <td>Bac Lieu</td>\n",
       "      <td>31</td>\n",
       "      <td>25</td>\n",
       "      <td>20</td>\n",
       "      <td>ENE</td>\n",
       "      <td>0.0</td>\n",
       "      <td>64</td>\n",
       "      <td>24</td>\n",
       "      <td>1010</td>\n",
       "      <td>2010-01-01</td>\n",
       "    </tr>\n",
       "    <tr>\n",
       "      <th>2</th>\n",
       "      <td>Bac Lieu</td>\n",
       "      <td>29</td>\n",
       "      <td>24</td>\n",
       "      <td>14</td>\n",
       "      <td>E</td>\n",
       "      <td>0.0</td>\n",
       "      <td>75</td>\n",
       "      <td>45</td>\n",
       "      <td>1008</td>\n",
       "      <td>2011-01-01</td>\n",
       "    </tr>\n",
       "    <tr>\n",
       "      <th>3</th>\n",
       "      <td>Bac Lieu</td>\n",
       "      <td>30</td>\n",
       "      <td>24</td>\n",
       "      <td>30</td>\n",
       "      <td>E</td>\n",
       "      <td>0.0</td>\n",
       "      <td>79</td>\n",
       "      <td>52</td>\n",
       "      <td>1012</td>\n",
       "      <td>2012-01-01</td>\n",
       "    </tr>\n",
       "    <tr>\n",
       "      <th>4</th>\n",
       "      <td>Bac Lieu</td>\n",
       "      <td>31</td>\n",
       "      <td>25</td>\n",
       "      <td>20</td>\n",
       "      <td>ENE</td>\n",
       "      <td>0.0</td>\n",
       "      <td>70</td>\n",
       "      <td>24</td>\n",
       "      <td>1010</td>\n",
       "      <td>2013-01-01</td>\n",
       "    </tr>\n",
       "  </tbody>\n",
       "</table>\n",
       "</div>"
      ],
      "text/plain": [
       "   province  max  min  wind wind_d  rain  humidi  cloud  pressure        date\n",
       "0  Bac Lieu   27   22    17    NNE   6.9      90     71      1010  2009-01-01\n",
       "1  Bac Lieu   31   25    20    ENE   0.0      64     24      1010  2010-01-01\n",
       "2  Bac Lieu   29   24    14      E   0.0      75     45      1008  2011-01-01\n",
       "3  Bac Lieu   30   24    30      E   0.0      79     52      1012  2012-01-01\n",
       "4  Bac Lieu   31   25    20    ENE   0.0      70     24      1010  2013-01-01"
      ]
     },
     "execution_count": 2,
     "metadata": {},
     "output_type": "execute_result"
    }
   ],
   "source": [
    "df = pd.read_csv(\"../Dataset/VIETNAM.csv\")\n",
    "df.head()"
   ]
  },
  {
   "cell_type": "code",
   "execution_count": null,
   "metadata": {},
   "outputs": [],
   "source": [
    "## FORMULA FOR MEDIAN = ((max-min)/2)+min"
   ]
  },
  {
   "cell_type": "code",
   "execution_count": 3,
   "metadata": {},
   "outputs": [
    {
     "name": "stdout",
     "output_type": "stream",
     "text": [
      "<class 'pandas.core.frame.DataFrame'>\n",
      "RangeIndex: 181960 entries, 0 to 181959\n",
      "Data columns (total 10 columns):\n",
      " #   Column    Non-Null Count   Dtype  \n",
      "---  ------    --------------   -----  \n",
      " 0   province  181960 non-null  object \n",
      " 1   max       181960 non-null  int64  \n",
      " 2   min       181960 non-null  int64  \n",
      " 3   wind      181960 non-null  int64  \n",
      " 4   wind_d    181960 non-null  object \n",
      " 5   rain      181960 non-null  float64\n",
      " 6   humidi    181960 non-null  int64  \n",
      " 7   cloud     181960 non-null  int64  \n",
      " 8   pressure  181960 non-null  int64  \n",
      " 9   date      181960 non-null  object \n",
      "dtypes: float64(1), int64(6), object(3)\n",
      "memory usage: 13.9+ MB\n"
     ]
    }
   ],
   "source": [
    "df.info()"
   ]
  },
  {
   "cell_type": "code",
   "execution_count": 9,
   "metadata": {},
   "outputs": [
    {
     "data": {
      "text/plain": [
       "province    0\n",
       "max         0\n",
       "min         0\n",
       "wind        0\n",
       "wind_d      0\n",
       "rain        0\n",
       "humidi      0\n",
       "cloud       0\n",
       "pressure    0\n",
       "date        0\n",
       "dtype: int64"
      ]
     },
     "execution_count": 9,
     "metadata": {},
     "output_type": "execute_result"
    }
   ],
   "source": [
    "# check for nulls\n",
    "df.isnull().sum()"
   ]
  },
  {
   "cell_type": "code",
   "execution_count": 8,
   "metadata": {},
   "outputs": [
    {
     "data": {
      "text/plain": [
       "array(['Bac Lieu', 'Ho Chi Minh City', 'Tam Ky', 'Ben Tre', 'Hoa Binh',\n",
       "       'Tan An', 'Bien Hoa', 'Hong Gai', 'Thai Nguyen', 'Buon Me Thuot',\n",
       "       'Hue', 'Thanh Hoa', 'Ca Mau', 'Long Xuyen', 'Tra Vinh', 'Cam Pha',\n",
       "       'My Tho', 'Tuy Hoa', 'Cam Ranh', 'Nam Dinh', 'Uong Bi', 'Can Tho',\n",
       "       'Nha Trang', 'Viet Tri', 'Chau Doc', 'Phan Rang', 'Vinh', 'Da Lat',\n",
       "       'Phan Thiet', 'Vinh Long', 'Ha Noi', 'Play Cu', 'Vung Tau',\n",
       "       'Hai Duong', 'Qui Nhon', 'Yen Bai', 'Hai Phong', 'Rach Gia',\n",
       "       'Hanoi', 'Soc Trang'], dtype=object)"
      ]
     },
     "execution_count": 8,
     "metadata": {},
     "output_type": "execute_result"
    }
   ],
   "source": [
    "df.province.unique()"
   ]
  },
  {
   "cell_type": "code",
   "execution_count": 10,
   "metadata": {},
   "outputs": [
    {
     "data": {
      "text/plain": [
       "Bac Lieu            4549\n",
       "Ho Chi Minh City    4549\n",
       "Nha Trang           4549\n",
       "Viet Tri            4549\n",
       "Chau Doc            4549\n",
       "Phan Rang           4549\n",
       "Vinh                4549\n",
       "Da Lat              4549\n",
       "Phan Thiet          4549\n",
       "Vinh Long           4549\n",
       "Ha Noi              4549\n",
       "Play Cu             4549\n",
       "Vung Tau            4549\n",
       "Hai Duong           4549\n",
       "Qui Nhon            4549\n",
       "Yen Bai             4549\n",
       "Hai Phong           4549\n",
       "Rach Gia            4549\n",
       "Hanoi               4549\n",
       "Can Tho             4549\n",
       "Uong Bi             4549\n",
       "Nam Dinh            4549\n",
       "Buon Me Thuot       4549\n",
       "Tam Ky              4549\n",
       "Ben Tre             4549\n",
       "Hoa Binh            4549\n",
       "Tan An              4549\n",
       "Bien Hoa            4549\n",
       "Hong Gai            4549\n",
       "Thai Nguyen         4549\n",
       "Hue                 4549\n",
       "Cam Ranh            4549\n",
       "Thanh Hoa           4549\n",
       "Ca Mau              4549\n",
       "Long Xuyen          4549\n",
       "Tra Vinh            4549\n",
       "Cam Pha             4549\n",
       "My Tho              4549\n",
       "Tuy Hoa             4549\n",
       "Soc Trang           4549\n",
       "Name: province, dtype: int64"
      ]
     },
     "execution_count": 10,
     "metadata": {},
     "output_type": "execute_result"
    }
   ],
   "source": [
    "# check for value counts of habitat column\n",
    "df.province.value_counts()"
   ]
  },
  {
   "cell_type": "code",
   "execution_count": null,
   "metadata": {},
   "outputs": [],
   "source": []
  },
  {
   "cell_type": "code",
   "execution_count": null,
   "metadata": {},
   "outputs": [],
   "source": []
  },
  {
   "cell_type": "code",
   "execution_count": null,
   "metadata": {},
   "outputs": [],
   "source": []
  },
  {
   "cell_type": "code",
   "execution_count": null,
   "metadata": {},
   "outputs": [],
   "source": []
  },
  {
   "cell_type": "code",
   "execution_count": null,
   "metadata": {},
   "outputs": [],
   "source": []
  },
  {
   "cell_type": "code",
   "execution_count": null,
   "metadata": {},
   "outputs": [],
   "source": []
  }
 ],
 "metadata": {
  "kernelspec": {
   "display_name": "aap",
   "language": "python",
   "name": "python3"
  },
  "language_info": {
   "codemirror_mode": {
    "name": "ipython",
    "version": 3
   },
   "file_extension": ".py",
   "mimetype": "text/x-python",
   "name": "python",
   "nbconvert_exporter": "python",
   "pygments_lexer": "ipython3",
   "version": "3.10.13"
  }
 },
 "nbformat": 4,
 "nbformat_minor": 2
}
